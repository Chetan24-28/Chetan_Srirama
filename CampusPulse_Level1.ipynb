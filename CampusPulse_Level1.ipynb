{
 "cells": [
  {
   "cell_type": "markdown",
   "id": "4ebea8ea",
   "metadata": {},
   "source": [
    "# 🧠 CampusPulse – Task 1:Level 1 - Variable Identification Protocol"
   ]
  },
  {
   "cell_type": "markdown",
   "id": "da3395f0",
   "metadata": {},
   "source": [
    "This notebook performs Exploratory Data Analysis (EDA) to reverse-engineer the meaning of three anonymized features: `Feature_1`, `Feature_2`, and `Feature_3`."
   ]
  },
  {
   "cell_type": "markdown",
   "id": "925b280b",
   "metadata": {},
   "source": [
    "##  1. Load Dataset"
   ]
  },
  {
   "cell_type": "code",
   "execution_count": null,
   "id": "6cfd72b0",
   "metadata": {},
   "outputs": [],
   "source": [
    "import pandas as pd\n",
    "\n",
    "# Load dataset\n",
    "file_path = 'Dataset.csv'  # Make sure this file is in the same folder\n",
    "\n",
    "# Load the data\n",
    "df = pd.read_csv(file_path)\n",
    "df.head()"
   ]
  },
  {
   "cell_type": "markdown",
   "id": "5521c65f",
   "metadata": {},
   "source": [
    "##  2. Distribution of Anonymized Features"
   ]
  },
  {
   "cell_type": "code",
   "execution_count": null,
   "id": "3c85ca1b",
   "metadata": {},
   "outputs": [],
   "source": [
    "import matplotlib.pyplot as plt\n",
    "import seaborn as sns\n",
    "\n",
    "features = ['Feature_1', 'Feature_2', 'Feature_3']\n",
    "\n",
    "sns.set(style=\"whitegrid\")\n",
    "fig, axes = plt.subplots(1, 3, figsize=(18, 5))\n",
    "\n",
    "for i, feature in enumerate(features):\n",
    "    sns.histplot(df[feature], kde=True, ax=axes[i])\n",
    "    axes[i].set_title(f'Distribution of {feature}')\n",
    "    axes[i].set_xlabel(feature)\n",
    "\n",
    "plt.tight_layout()\n",
    "plt.show()"
   ]
  },
  {
   "cell_type": "markdown",
   "id": "2626b4a0",
   "metadata": {},
   "source": [
    "##  3. Correlation Analysis"
   ]
  },
  {
   "cell_type": "code",
   "execution_count": null,
   "id": "2b800f0f",
   "metadata": {},
   "outputs": [],
   "source": [
    "# Compute and visualize correlations\n",
    "corr_matrix = df.corr(numeric_only=True)\n",
    "\n",
    "# Focused correlation heatmap for Feature_1, Feature_2, Feature_3\n",
    "import numpy as np\n",
    "selected_corrs = corr_matrix[['Feature_1', 'Feature_2', 'Feature_3']].sort_values(by='Feature_1', ascending=False)\n",
    "\n",
    "plt.figure(figsize=(10, 8))\n",
    "sns.heatmap(selected_corrs, annot=True, cmap='coolwarm', fmt=\".2f\")\n",
    "plt.title('Correlation with Anonymized Features')\n",
    "plt.show()"
   ]
  },
  {
   "cell_type": "markdown",
   "id": "1564622f",
   "metadata": {},
   "source": [
    "##  4. Visual Exploration"
   ]
  },
  {
   "cell_type": "code",
   "execution_count": null,
   "id": "057fdbc1",
   "metadata": {},
   "outputs": [],
   "source": [
    "fig, axes = plt.subplots(3, 2, figsize=(14, 14))\n",
    "\n",
    "# Feature_1 vs G3\n",
    "sns.scatterplot(x='Feature_1', y='G3', data=df, ax=axes[0, 0])\n",
    "axes[0, 0].set_title('Feature_1 vs G3 (Grades)')\n",
    "\n",
    "# Feature_2 vs Goout\n",
    "sns.violinplot(x='Feature_2', y='goout', data=df, ax=axes[1, 0])\n",
    "axes[1, 0].set_title('Feature_2 vs Goout (Social Activity)')\n",
    "\n",
    "# Feature_2 vs Dalc\n",
    "sns.violinplot(x='Feature_2', y='Dalc', data=df, ax=axes[1, 1])\n",
    "axes[1, 1].set_title('Feature_2 vs Weekday Alcohol Use')\n",
    "\n",
    "# Feature_3 vs Health\n",
    "sns.boxplot(x='Feature_3', y='health', data=df, ax=axes[2, 0])\n",
    "axes[2, 0].set_title('Feature_3 vs Health')\n",
    "\n",
    "# Feature_3 vs G3\n",
    "sns.scatterplot(x='Feature_3', y='G3', data=df, ax=axes[2, 1])\n",
    "axes[2, 1].set_title('Feature_3 vs G3 (Grades)')\n",
    "\n",
    "# Feature_1 vs Failures\n",
    "sns.boxplot(x='Feature_1', y='failures', data=df, ax=axes[0, 1])\n",
    "axes[0, 1].set_title('Feature_1 vs Failures')\n",
    "\n",
    "plt.tight_layout()\n",
    "plt.show()"
   ]
  },
  {
   "cell_type": "markdown",
   "id": "a33322e7",
   "metadata": {},
   "source": [
    "##  5. Final Feature Interpretations"
   ]
  },
  {
   "cell_type": "markdown",
   "id": "8cf83fce",
   "metadata": {},
   "source": [
    "\n",
    "| Feature     | Inferred Meaning               | Justification                                                                 |\n",
    "|-------------|--------------------------------|-------------------------------------------------------------------------------|\n",
    "| `Feature_1` | **Screen Time / Distraction**  | Negatively correlated with grades; aligns with common media use patterns.     |\n",
    "| `Feature_2` | **Study Time / Academic Focus**| Strong positive correlation with grades; inversely related to social activity.|\n",
    "| `Feature_3` | **Socializing / Hanging Out**  | Positively tied to goout and alcohol use; negatively related to grades.       |\n"
   ]
  }
 ],
 "metadata": {},
 "nbformat": 4,
 "nbformat_minor": 5
}
